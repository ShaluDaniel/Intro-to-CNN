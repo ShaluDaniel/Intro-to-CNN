{
 "metadata": {
  "language_info": {
   "codemirror_mode": {
    "name": "ipython",
    "version": 3
   },
   "file_extension": ".py",
   "mimetype": "text/x-python",
   "name": "python",
   "nbconvert_exporter": "python",
   "pygments_lexer": "ipython3",
   "version": "3.7.9-final"
  },
  "orig_nbformat": 2,
  "kernelspec": {
   "name": "Python 3.7.9 64-bit ('env': conda)",
   "display_name": "Python 3.7.9 64-bit ('env': conda)",
   "metadata": {
    "interpreter": {
     "hash": "4fe31c15e4eb79f0fdfa7cc3656213c5012a0ae83cf2d5ad97c713b714903dea"
    }
   }
  }
 },
 "nbformat": 4,
 "nbformat_minor": 2,
 "cells": [
  {
   "cell_type": "code",
   "execution_count": null,
   "metadata": {},
   "outputs": [],
   "source": [
    "Introduction to Convolution neural networks\n"
   ]
  },
  {
   "source": [
    "Importing Libraries"
   ],
   "cell_type": "markdown",
   "metadata": {}
  },
  {
   "cell_type": "code",
   "execution_count": 35,
   "metadata": {},
   "outputs": [],
   "source": [
    "import numpy as np\n",
    "np.random.seed(123)\n",
    "from keras.models import Sequential\n",
    "from keras.layers import Dense, Dropout, Activation, Flatten\n",
    "from keras.layers import Convolution2D,  MaxPooling2D\n",
    "from keras.utils import np_utils\n",
    "from keras.datasets import mnist"
   ]
  },
  {
   "source": [
    "Load the data"
   ],
   "cell_type": "markdown",
   "metadata": {}
  },
  {
   "cell_type": "code",
   "execution_count": 36,
   "metadata": {},
   "outputs": [],
   "source": [
    "(X_train,y_train),(X_test, y_test)=mnist.load_data()\n"
   ]
  },
  {
   "source": [
    "Preprocess the data"
   ],
   "cell_type": "markdown",
   "metadata": {}
  },
  {
   "cell_type": "code",
   "execution_count": 37,
   "metadata": {},
   "outputs": [],
   "source": [
    "X_train=X_train.reshape(X_train.shape[0], 28, 28, 1)\n",
    "X_test=X_test.reshape(X_test.shape[0], 28, 28, 1)\n",
    "X_train=X_train.astype('float32')\n",
    "X_test=X_test.astype('float32')\n",
    "X_train/= 255\n",
    "X_test/=255"
   ]
  },
  {
   "source": [
    "Preprocess class labels"
   ],
   "cell_type": "markdown",
   "metadata": {}
  },
  {
   "cell_type": "code",
   "execution_count": 38,
   "metadata": {},
   "outputs": [],
   "source": [
    "Y_train=np_utils.to_categorical(y_train, 10)\n",
    "Y_test= np_utils.to_categorical(y_test, 10)"
   ]
  },
  {
   "source": [
    "Define Model Architecture"
   ],
   "cell_type": "markdown",
   "metadata": {}
  },
  {
   "cell_type": "code",
   "execution_count": 39,
   "metadata": {},
   "outputs": [],
   "source": [
    "model= Sequential()\n",
    "\n",
    "model.add(Convolution2D(32, 3, 3, activation='relu', input_shape=(28, 28, 1)))\n",
    "model.add(Convolution2D(32, 3, 3, activation='relu'))\n",
    "model.add(MaxPooling2D(pool_size=(2, 2)))\n",
    "model.add(Dropout(0.25))\n",
    "\n",
    "model.add(Flatten())\n",
    "model.add(Dense(128, activation='relu'))\n",
    "model.add(Dropout(0.5))\n",
    "model.add(Dense(10, activation='softmax'))\n",
    "\n"
   ]
  },
  {
   "source": [
    "Compile Model"
   ],
   "cell_type": "markdown",
   "metadata": {}
  },
  {
   "cell_type": "code",
   "execution_count": 44,
   "metadata": {},
   "outputs": [
    {
     "output_type": "stream",
     "name": "stdout",
     "text": [
      "Model: \"sequential_13\"\n_________________________________________________________________\nLayer (type)                 Output Shape              Param #   \n=================================================================\nconv2d_16 (Conv2D)           (None, 26, 26, 32)        320       \n_________________________________________________________________\nconv2d_17 (Conv2D)           (None, 24, 24, 32)        9248      \n_________________________________________________________________\nmax_pooling2d_4 (MaxPooling2 (None, 12, 12, 32)        0         \n_________________________________________________________________\ndropout_7 (Dropout)          (None, 12, 12, 32)        0         \n_________________________________________________________________\nflatten_4 (Flatten)          (None, 4608)              0         \n_________________________________________________________________\ndense_7 (Dense)              (None, 128)               589952    \n_________________________________________________________________\ndropout_8 (Dropout)          (None, 128)               0         \n_________________________________________________________________\ndense_8 (Dense)              (None, 10)                1290      \n=================================================================\nTotal params: 600,810\nTrainable params: 600,810\nNon-trainable params: 0\n_________________________________________________________________\nNone\n"
     ]
    }
   ],
   "source": [
    "model.compile(loss='categorical_crossentropy', optimizer='adam', metrics=['accuracy'])\n",
    "print(model.summary())"
   ]
  },
  {
   "source": [
    "Fit model on training data"
   ],
   "cell_type": "markdown",
   "metadata": {}
  },
  {
   "cell_type": "code",
   "execution_count": 41,
   "metadata": {},
   "outputs": [
    {
     "output_type": "stream",
     "name": "stdout",
     "text": [
      "Epoch 1/10\n",
      "60000/60000 [==============================] - 167s 3ms/step - loss: 0.2025 - accuracy: 0.9381\n",
      "Epoch 2/10\n",
      "60000/60000 [==============================] - 178s 3ms/step - loss: 0.0861 - accuracy: 0.9742\n",
      "Epoch 3/10\n",
      "60000/60000 [==============================] - 194s 3ms/step - loss: 0.0653 - accuracy: 0.9804\n",
      "Epoch 4/10\n",
      "60000/60000 [==============================] - 167s 3ms/step - loss: 0.0541 - accuracy: 0.9830\n",
      "Epoch 5/10\n",
      "60000/60000 [==============================] - 163s 3ms/step - loss: 0.0482 - accuracy: 0.9854\n",
      "Epoch 6/10\n",
      "60000/60000 [==============================] - 173s 3ms/step - loss: 0.0422 - accuracy: 0.9868\n",
      "Epoch 7/10\n",
      "60000/60000 [==============================] - 173s 3ms/step - loss: 0.0376 - accuracy: 0.9883\n",
      "Epoch 8/10\n",
      "60000/60000 [==============================] - 158s 3ms/step - loss: 0.0325 - accuracy: 0.9894\n",
      "Epoch 9/10\n",
      "60000/60000 [==============================] - 149s 2ms/step - loss: 0.0304 - accuracy: 0.9907\n",
      "Epoch 10/10\n",
      "60000/60000 [==============================] - 152s 3ms/step - loss: 0.0292 - accuracy: 0.9909\n"
     ]
    },
    {
     "output_type": "execute_result",
     "data": {
      "text/plain": [
       "<keras.callbacks.callbacks.History at 0x2e23d6eaac8>"
      ]
     },
     "metadata": {},
     "execution_count": 41
    }
   ],
   "source": [
    "model.fit(X_train, Y_train, batch_size=32, nb_epoch=10, verbose=1)"
   ]
  },
  {
   "source": [
    "Evaluate model on test data"
   ],
   "cell_type": "markdown",
   "metadata": {}
  },
  {
   "cell_type": "code",
   "execution_count": 43,
   "metadata": {},
   "outputs": [],
   "source": [
    "score = model.evaluate(X_test, Y_test, verbose=0)"
   ]
  },
  {
   "cell_type": "code",
   "execution_count": null,
   "metadata": {},
   "outputs": [],
   "source": []
  }
 ]
}